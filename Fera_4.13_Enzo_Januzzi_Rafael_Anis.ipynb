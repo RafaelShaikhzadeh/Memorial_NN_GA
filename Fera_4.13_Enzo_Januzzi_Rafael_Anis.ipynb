{
 "cells": [
  {
   "cell_type": "markdown",
   "metadata": {},
   "source": [
    "# 4 - Feras Formidáveis"
   ]
  },
  {
   "cell_type": "markdown",
   "metadata": {},
   "source": [
    "## 4.13 A liga ternária mais cara do mundo"
   ]
  },
  {
   "cell_type": "markdown",
   "metadata": {},
   "source": [
    "**Autores:** \n",
    "\n",
    "Enzo Januzzi Xavier\n",
    "\n",
    "Rafael Anis Shaikhzadeh Santos\n",
    "\n",
    "**Contribuição:** Ambos discutiram o problema e fizeram a maior parte do código juntos. Se dividiram apenas para fazer as funções objetivo e de mutação. Enzo fez a 'função objetivo' e Rafael a 'função de mutação'."
   ]
  },
  {
   "cell_type": "markdown",
   "metadata": {},
   "source": [
    "### Introdução:"
   ]
  },
  {
   "cell_type": "markdown",
   "metadata": {},
   "source": [
    "O objetivo desta atividade é encontrar uma liga de três elementos que tenha o maior custo possível utilizando algoritmos genéticos. A liga ternária deve ser da forma **`x A . y B . z C`** sendo que \n",
    "\n",
    "$$\n",
    "\\begin{cases}\n",
    "x + y + z = 100\\,\\mathrm{g} \\\\\n",
    "x \\geq 5\\,\\mathrm{g} \\\\\n",
    "y \\geq 5\\,\\mathrm{g} \\\\\n",
    "z \\geq 5\\,\\mathrm{g}\n",
    "\\end{cases}\n",
    "$$\n",
    "\n",
    "e *A*, *B* e *C* são elementos químicos diferentes. O preço de cada elemento disponível está definido abaixo. Considerou-se que qualquer composto com 3 elementos químicos é chamado de liga, desprezando equivalência química nas fórmulas."
   ]
  },
  {
   "cell_type": "markdown",
   "metadata": {},
   "source": [
    "### Desenvolvimento:"
   ]
  },
  {
   "cell_type": "markdown",
   "metadata": {},
   "source": [
    "Importando as bibliotecas necessárias [1,2] e os scripts, baseados no material de aula do professor Daniel Cassar [3,4]:"
   ]
  },
  {
   "cell_type": "code",
   "execution_count": 1,
   "metadata": {},
   "outputs": [],
   "source": [
    "import random\n",
    "from functools import partial\n",
    "\n",
    "from Scripts import funcao_objetivo_pop_liga\n",
    "from Scripts import populacao_liga as cria_populacao\n",
    "from Scripts import selecao_torneio_max as funcao_selecao\n",
    "from Scripts import cruzamento_ordenado as funcao_cruzamento\n",
    "from Scripts import mutacao_elemento as funcao_mutacao"
   ]
  },
  {
   "cell_type": "markdown",
   "metadata": {},
   "source": [
    "Segue o dicionário de elementos e preços concedidos pela questão."
   ]
  },
  {
   "cell_type": "code",
   "execution_count": 2,
   "metadata": {},
   "outputs": [],
   "source": [
    "DIC_PRECO = {\n",
    "    \"H\": 1.39, \"He\": 24, \"Li\": 85.6, \"Be\": 857, \"B\": 3.68, \"C\": 0.122, \"N\": 0.14, \"O\": 0.154, \"F\": 2.16, \"Ne\": 240,\n",
    "    \"Na\": 3.43, \"Mg\": 2.32, \"Al\": 1.79, \"Si\": 1.7, \"P\": 2.69, \"S\": 0.0926, \"Cl\": 0.082, \"Ar\": 0.931, \"K\": 13.6,\n",
    "    \"Ca\": 2.35, \"Sc\": 3460, \"Ti\": 11.7, \"V\": 385, \"Cr\": 9.4, \"Mn\": 1.82, \"Fe\": 0.424, \"Co\": 32.8, \"Ni\": 13.9,\n",
    "    \"Cu\": 6, \"Zn\": 2.55, \"Ga\": 148, \"Ge\": 1010, \"As\": 1.31, \"Se\": 21.4, \"Br\": 4.39, \"Kr\": 290, \"Rb\": 15500,\n",
    "    \"Sr\": 6.68, \"Y\": 31, \"Nb\": 85.6, \"Mo\": 40.1, \"Tc\": 100000, \"Ru\": 10600, \"Rh\": 147000, \"Pd\": 49500, \"Ag\": 521,\n",
    "    \"Cd\": 2.73, \"In\": 167, \"Sn\": 18.7, \"Sb\": 5.79, \"Te\": 63.5, \"I\": 35, \"Xe\": 1800, \"Cs\": 61800, \"Ba\": 0.275,\n",
    "    \"La\": 4.92, \"Ce\": 4.71, \"Pr\": 103, \"Nd\": 57.5, \"Pm\": 460000, \"Sm\": 13.9, \"Eu\": 31.4, \"Gd\": 28.6, \"Tb\": 658,\n",
    "    \"Dy\": 307, \"Ho\": 57.1, \"Er\": 26.4, \"Tm\": 3000, \"Yb\": 17.1, \"Lu\": 643, \"Hf\": 900, \"Ta\": 312, \"W\": 35.3,\n",
    "    \"Re\": 4150, \"Os\": 12000, \"Ir\": 56200, \"Pt\": 27800, \"Hg\": 30.2, \"Tl\": 4200, \"Pb\": 2, \"Bi\": 6.36, \"Po\": 49200000000000,\n",
    "    \"Ac\": 29000000000000, \"Th\": 287, \"Pa\": 280000, \"U\": 101, \"Np\": 660000, \"Pu\": 6490000, \"Am\": 750000,\n",
    "    \"Cm\": 160000000000, \"Bk\": 185000000000, \"Cf\": 185000000000,\n",
    "}\n"
   ]
  },
  {
   "cell_type": "markdown",
   "metadata": {},
   "source": [
    "Definimos algumas constantes do problema. Aqui é interessante observar que decidimos manter os valores de x, y e z constantes como 90, 5 e 5 gramas (somando 100 gramas). A ideia por trás é, que para achar a liga mais valiosa é lógico pegarmos a maior quantidade de elementos mais valiosos. Nesse caso, o peso máximo possível de um mesmo elemento é 90 gramas - definido pelo enunciado (100-5-5 = 90). Os outros dois elementos terão 5 gramas, visto que é o mínimo necessário.\n",
    "Importante destacar que essa lógica funciona neste problema, pois é um problema monoobjetivo - queremos apenas otimizar o valor da liga.\n",
    "\n",
    "\n",
    "Nota: já que os valores dos elementos são dado em dolár/kg vamos por x,y,z em kg também."
   ]
  },
  {
   "cell_type": "code",
   "execution_count": 3,
   "metadata": {},
   "outputs": [],
   "source": [
    "ELEMENTOS = list(DIC_PRECO.keys())\n",
    "TAMANHO_LIGA = 3\n",
    "XYZ = [0.09, 0.005, 0.005]\n",
    "\n",
    "NUM_GERACOES = 1000\n",
    "TAMANHO_POPULACAO = 100\n",
    "CHANCE_DE_CRUZAMENTO = 0.5\n",
    "CHANCE_DE_MUTACAO = 0.025\n",
    "CHANCE_DE_MUTACAO_TAMANHO = 0.05\n",
    "TAMANHO_TORNEIO = 3"
   ]
  },
  {
   "cell_type": "markdown",
   "metadata": {},
   "source": [
    "Alteramos nossa função objetivo usando partial."
   ]
  },
  {
   "cell_type": "code",
   "execution_count": 4,
   "metadata": {},
   "outputs": [],
   "source": [
    "funcao_objetivo = partial(funcao_objetivo_pop_liga, \n",
    "                          elementos_possiveis = ELEMENTOS, \n",
    "                          dic_precos = DIC_PRECO, \n",
    "                          xyz = XYZ)"
   ]
  },
  {
   "cell_type": "markdown",
   "metadata": {},
   "source": [
    "Criando a população inicial do problema, em que cada indivíduo contém 3 elementos diferentes (A, B, C). Vale lembrar, de novo, que os valores de x,y e z são fixos."
   ]
  },
  {
   "cell_type": "code",
   "execution_count": 5,
   "metadata": {},
   "outputs": [
    {
     "data": {
      "text/plain": [
       "[['Ni', 'Ac', 'Gd'],\n",
       " ['Kr', 'Pr', 'Mg'],\n",
       " ['Ag', 'Pd', 'N'],\n",
       " ['Nb', 'Gd', 'Br'],\n",
       " ['Ir', 'Sm', 'Er'],\n",
       " ['Ce', 'K', 'Bi'],\n",
       " ['Ar', 'C', 'Ru'],\n",
       " ['Sc', 'Ge', 'Gd'],\n",
       " ['Mo', 'Ga', 'Hf'],\n",
       " ['K', 'Er', 'Cu'],\n",
       " ['Co', 'Rh', 'Po'],\n",
       " ['Lu', 'Ag', 'C'],\n",
       " ['O', 'Ti', 'Sr'],\n",
       " ['Bi', 'Ar', 'Pt'],\n",
       " ['Mo', 'Al', 'Cu'],\n",
       " ['Cr', 'Be', 'Pb'],\n",
       " ['Cf', 'Ba', 'Se'],\n",
       " ['Nb', 'Ga', 'Ba'],\n",
       " ['Sc', 'Be', 'Tm'],\n",
       " ['Re', 'Tl', 'Cs'],\n",
       " ['In', 'Cm', 'Se'],\n",
       " ['Zn', 'Ir', 'Pt'],\n",
       " ['Rh', 'Tc', 'Nd'],\n",
       " ['Fe', 'Tm', 'Ca'],\n",
       " ['Be', 'N', 'Sb'],\n",
       " ['Ne', 'Te', 'Nb'],\n",
       " ['Cr', 'Yb', 'Np'],\n",
       " ['Xe', 'Co', 'Ti'],\n",
       " ['Bk', 'Ho', 'Tb'],\n",
       " ['Ti', 'S', 'Os'],\n",
       " ['Tb', 'Zn', 'Bk'],\n",
       " ['Hg', 'He', 'Sr'],\n",
       " ['Cu', 'Mo', 'U'],\n",
       " ['Fe', 'Pm', 'Mn'],\n",
       " ['K', 'Ag', 'Mg'],\n",
       " ['Xe', 'H', 'Ru'],\n",
       " ['Pt', 'Ac', 'Hf'],\n",
       " ['Ce', 'Sb', 'Gd'],\n",
       " ['Yb', 'Ar', 'Rb'],\n",
       " ['Ho', 'Tl', 'I'],\n",
       " ['Ac', 'P', 'Gd'],\n",
       " ['Cf', 'Xe', 'Mn'],\n",
       " ['Bi', 'H', 'Co'],\n",
       " ['Hg', 'Pu', 'Mg'],\n",
       " ['Ag', 'Ni', 'Eu'],\n",
       " ['He', 'B', 'Al'],\n",
       " ['Cd', 'Tb', 'P'],\n",
       " ['Pb', 'Mo', 'P'],\n",
       " ['Cl', 'V', 'Ba'],\n",
       " ['Pt', 'F', 'Mn'],\n",
       " ['As', 'Ni', 'Zn'],\n",
       " ['Li', 'Th', 'F'],\n",
       " ['In', 'Ru', 'Sr'],\n",
       " ['Cl', 'Pd', 'Zn'],\n",
       " ['Sr', 'Li', 'Tl'],\n",
       " ['La', 'Ge', 'Ne'],\n",
       " ['Rb', 'Re', 'Pb'],\n",
       " ['Po', 'Am', 'I'],\n",
       " ['Cf', 'I', 'Os'],\n",
       " ['S', 'Cr', 'Mn'],\n",
       " ['Ag', 'Mg', 'Tc'],\n",
       " ['Ac', 'Fe', 'La'],\n",
       " ['Fe', 'Ar', 'Ni'],\n",
       " ['Hf', 'Sb', 'Tb'],\n",
       " ['Zn', 'Cl', 'Sn'],\n",
       " ['Cs', 'Tc', 'C'],\n",
       " ['P', 'I', 'Sm'],\n",
       " ['F', 'Pa', 'Co'],\n",
       " ['Po', 'Am', 'Ar'],\n",
       " ['B', 'Ni', 'O'],\n",
       " ['I', 'La', 'Ta'],\n",
       " ['Sm', 'K', 'I'],\n",
       " ['Nb', 'Co', 'Ge'],\n",
       " ['Kr', 'Ba', 'Sn'],\n",
       " ['I', 'Ac', 'Pt'],\n",
       " ['Li', 'Kr', 'V'],\n",
       " ['Bk', 'Co', 'Np'],\n",
       " ['Tc', 'Nd', 'F'],\n",
       " ['Cf', 'Pm', 'Kr'],\n",
       " ['F', 'Na', 'Er'],\n",
       " ['Te', 'V', 'Pu'],\n",
       " ['Po', 'Fe', 'Ir'],\n",
       " ['Ni', 'Ir', 'Eu'],\n",
       " ['I', 'Tm', 'Eu'],\n",
       " ['Am', 'K', 'Np'],\n",
       " ['Pa', 'Bi', 'He'],\n",
       " ['Li', 'Cu', 'Pr'],\n",
       " ['Ti', 'Cd', 'Bi'],\n",
       " ['Th', 'U', 'Pu'],\n",
       " ['Tl', 'Ce', 'Se'],\n",
       " ['W', 'Cr', 'Np'],\n",
       " ['N', 'Ho', 'Sb'],\n",
       " ['Y', 'H', 'Ca'],\n",
       " ['Zn', 'Cf', 'Cd'],\n",
       " ['Br', 'Cl', 'Cs'],\n",
       " ['C', 'Yb', 'Eu'],\n",
       " ['Mg', 'Ti', 'Er'],\n",
       " ['Ta', 'In', 'As'],\n",
       " ['Ti', 'Kr', 'U'],\n",
       " ['Re', 'La', 'K']]"
      ]
     },
     "execution_count": 5,
     "metadata": {},
     "output_type": "execute_result"
    }
   ],
   "source": [
    "populacao = cria_populacao(TAMANHO_POPULACAO, TAMANHO_LIGA, ELEMENTOS)\n",
    "populacao"
   ]
  },
  {
   "cell_type": "markdown",
   "metadata": {},
   "source": [
    "O código principal, contendo um laço while para fazer todas as etapas do algoritmo genético (seleção, cruzamento, mutação e atualização da geração) até encontrar a liga mais cara. A função objetivo calcula o peso total dos elementos da população, fazendo uma seleção por torneio buscando maximizar o fitness. Usou-se o cruzamento ordenado e a mutação de salto para alterar os elementos de cada liga, buscando encontrar o melhor candidato."
   ]
  },
  {
   "cell_type": "code",
   "execution_count": 6,
   "metadata": {},
   "outputs": [],
   "source": [
    "hall_da_fama = []\n",
    "\n",
    "for n in range(NUM_GERACOES):\n",
    "    \n",
    "    # Seleção\n",
    "    fitness = funcao_objetivo(populacao)        \n",
    "    selecionados = funcao_selecao(populacao, fitness, TAMANHO_TORNEIO)\n",
    "    \n",
    "    # Cruzamento\n",
    "    proxima_geracao = []\n",
    "    for pai, mae in zip(selecionados[::2], selecionados[1::2]):\n",
    "        individuo1, individuo2 = funcao_cruzamento(pai, mae, CHANCE_DE_CRUZAMENTO)\n",
    "        proxima_geracao.append(individuo1)\n",
    "        proxima_geracao.append(individuo2)\n",
    "    \n",
    "    # Mutação\n",
    "    funcao_mutacao(proxima_geracao, CHANCE_DE_MUTACAO, ELEMENTOS)\n",
    "    \n",
    "    # Atualização do hall da fama\n",
    "    fitness = funcao_objetivo(proxima_geracao)\n",
    "        \n",
    "    maior_fitness = max(fitness)\n",
    "    indice = fitness.index(maior_fitness)\n",
    "    hall_da_fama.append(proxima_geracao[indice])    \n",
    "    \n",
    "    # Encerramento\n",
    "    populacao = proxima_geracao"
   ]
  },
  {
   "cell_type": "markdown",
   "metadata": {},
   "source": [
    "Por fim, só nos resta identificar o melhor individuo observado, basta analisar o individuo com maior fitness no hall da fama."
   ]
  },
  {
   "cell_type": "code",
   "execution_count": 7,
   "metadata": {},
   "outputs": [
    {
     "name": "stdout",
     "output_type": "stream",
     "text": [
      "O melhor indivíduo observado foi:\n",
      "Elementos: ['Po', 'Ac', 'Bk']\n",
      "Pesos respectivo (kg): [0.09, 0.005, 0.005]\n",
      "Valor da liga (Doláres): 4573925000000.0\n"
     ]
    }
   ],
   "source": [
    "fitness = funcao_objetivo(hall_da_fama)\n",
    "maior_fitness = max(fitness)\n",
    "indice = fitness.index(maior_fitness)\n",
    "melhor_individuo_observado = hall_da_fama[indice]\n",
    "\n",
    "\n",
    "print(\"O melhor indivíduo observado foi:\")\n",
    "print(\"Elementos:\", melhor_individuo_observado)\n",
    "print ('Pesos respectivo (kg):', XYZ)\n",
    "\n",
    "print(\"Valor da liga (Doláres):\", maior_fitness)"
   ]
  },
  {
   "cell_type": "markdown",
   "metadata": {},
   "source": [
    "### Conclusão:"
   ]
  },
  {
   "cell_type": "markdown",
   "metadata": {},
   "source": [
    "Ao fim, conseguimos uma liga terciária que acreditamos ser a mais valiosa. Apesar de não fazermos uma busca exaustiva para checar essa resposta, logicamente parece ser um bom palpite também. Afinal, pegamos 90 gramas do elemento mais caro e 5 gramas dos segundo e terceiro elemento mais caro."
   ]
  },
  {
   "cell_type": "markdown",
   "metadata": {},
   "source": [
    "### Referências:"
   ]
  },
  {
   "cell_type": "markdown",
   "metadata": {},
   "source": [
    "[1] Biblioteca Random. https://docs.python.org/3/library/random.html\n",
    "\n",
    "[2] Biblioteca Functools. **Método Partial**. https://docs.python.org/3/library/functools.html#partial-objects\n",
    "\n",
    "[3] CASSAR, Daniel. \"ATP-303 GA 6.2 - Notebook do problema da mochila.ipynb\". Material de Aula, 2025.\n",
    "\n",
    "[4] CASSAR, Daniel. \"funcoes.py\". Scripts baseados, 2025\n",
    "\n"
   ]
  }
 ],
 "metadata": {
  "kernelspec": {
   "display_name": "ilumpy",
   "language": "python",
   "name": "ilumpy"
  },
  "language_info": {
   "codemirror_mode": {
    "name": "ipython",
    "version": 3
   },
   "file_extension": ".py",
   "mimetype": "text/x-python",
   "name": "python",
   "nbconvert_exporter": "python",
   "pygments_lexer": "ipython3",
   "version": "3.11.6"
  }
 },
 "nbformat": 4,
 "nbformat_minor": 2
}
