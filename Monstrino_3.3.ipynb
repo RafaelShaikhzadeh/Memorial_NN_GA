{
 "cells": [
  {
   "cell_type": "markdown",
   "metadata": {},
   "source": [
    "# 3.3 Classes em Python não pagam imposto sobre herança\n",
    "\n",
    "Objetivo: Modele algum conceito científico utilizando herança de classes.\n",
    "Considerações do experimento: O uso da herança de classes deve fazer sentido\n",
    "dentro do contexto científico escolhido, isto é, deve haver uma justificativa bem embasada\n",
    "para o uso de herança de classes na sua entrega. Certifique-se que a classe mãe tem pelo\n",
    "menos um método que não seja dunder para ser herdado pela classe filha. Garanta que a\n",
    "classe filha tem pelo menos um método (dunder ou não) que justifique a sua criação."
   ]
  },
  {
   "cell_type": "markdown",
   "metadata": {},
   "source": [
    "## Introdução\n",
    "\n",
    "Esse notebook busca trazer um exemplo prático do uso de herança em classes. O exemplo aqui usado será de conjunto númericos. Teremos três classes, números naturais (mãe), números inteiros (filho) e números racionais ('neto' - filho do filho). A principio pode parecer contraintuitivo aqui considerar os naturais (um conjunto menor) ser a mãe dos números inteiros e racionais que são maiores. Porém a escolha de herança aqui não é feita na intuição tradicional, de que um valor herado sempre presente a outra classe, mas segue a ideia de que um valor herdado tem os mesmos atributos e métodos que sua mãe, mas é ainda mais complexo. A medida que avançamos esta escolha ficará mais claro, por enquanto basta pensar que devido a diversidade presente nos números inteiros e racionais (número negativos e floats), a possibilidade de métodos também nestas classes, urgindo serem classes filhas.\n"
   ]
  },
  {
   "cell_type": "markdown",
   "metadata": {},
   "source": [
    "Vamos então começar incluindo uma classe para os números naturais."
   ]
  },
  {
   "cell_type": "code",
   "execution_count": 2,
   "metadata": {},
   "outputs": [],
   "source": [
    "class Natural:\n",
    "\n",
    "    def __init__ (self, numero):\n",
    "        self.n = numero\n",
    "\n",
    "    def __repr__ (self):\n",
    "        return (f'O valor deste número é {self.n}')\n",
    "    \n",
    "    def __add__ (self, outro_valor):\n",
    "        resultado = self.n + outro_valor\n",
    "        return resultado\n",
    "    \n",
    "    def __sub__ (self, outro_valor):\n",
    "        resultado = self.n - outro_valor\n",
    "        return resultado\n",
    "    \n",
    "    def __mul__ (self, outro_valor):\n",
    "        resultado = self.n * outro_valor\n",
    "        return resultado\n",
    "    \n",
    "    def __truediv__ (self, outro_valor):\n",
    "        resultado = self.n / outro_valor\n",
    "        return resultado"
   ]
  },
  {
   "cell_type": "markdown",
   "metadata": {},
   "source": [
    "Temos então uma classe que recebe um número natural e consegue entregar resultados quando a somamos, subtraimos, multiplicamos ou dividimos por outros valores. Claro, poderiamos ter criado outros métodos, mas esses quatro serão suficiente para o que buscamos aqui. Vamos criar alguns números naturais e brincar um pouco com a classe.\n",
    "\n",
    "OBS: Talvez notaram que nos métodos o outro_valor não tem que ser natural, muito menos o resultado da equação. Mas isso não é problema, afinal o self não será alterado e permanecerá sendo Natural."
   ]
  },
  {
   "cell_type": "code",
   "execution_count": 3,
   "metadata": {},
   "outputs": [
    {
     "name": "stdout",
     "output_type": "stream",
     "text": [
      "Os números 8 e 293 são naturais.\n"
     ]
    }
   ],
   "source": [
    "natural_1 = Natural (8)\n",
    "natural_2 = Natural (293)\n",
    "\n",
    "print (f'Os números {natural_1.n} e {natural_2.n} são naturais.')"
   ]
  },
  {
   "cell_type": "code",
   "execution_count": 4,
   "metadata": {},
   "outputs": [
    {
     "name": "stdout",
     "output_type": "stream",
     "text": [
      "O valor deste número é 8\n"
     ]
    }
   ],
   "source": [
    "print (natural_1)"
   ]
  },
  {
   "cell_type": "code",
   "execution_count": 5,
   "metadata": {},
   "outputs": [
    {
     "data": {
      "text/plain": [
       "392"
      ]
     },
     "execution_count": 5,
     "metadata": {},
     "output_type": "execute_result"
    }
   ],
   "source": [
    "natural_2 + 99"
   ]
  },
  {
   "cell_type": "code",
   "execution_count": 6,
   "metadata": {},
   "outputs": [
    {
     "data": {
      "text/plain": [
       "2373.2999999999997"
      ]
     },
     "execution_count": 6,
     "metadata": {},
     "output_type": "execute_result"
    }
   ],
   "source": [
    "natural_2 * 8.1"
   ]
  },
  {
   "cell_type": "code",
   "execution_count": 7,
   "metadata": {},
   "outputs": [
    {
     "data": {
      "text/plain": [
       "0.42105263157894735"
      ]
     },
     "execution_count": 7,
     "metadata": {},
     "output_type": "execute_result"
    }
   ],
   "source": [
    "natural_1 / 19"
   ]
  },
  {
   "cell_type": "markdown",
   "metadata": {},
   "source": [
    "Legal, né? Vamos seguir então.\n",
    "\n",
    "Como dito antes aqui criamos apenas alguns métodos, mas poderiam ter criados outros como exponencial e potência. Poderiamos ter também o método de \"módulo\", mas sabemos que isso é completamente redundante para números naturais- afinal em todos os casos o módulo sempre seria o próprio valor self.\n",
    "\n",
    " Por outro lado, para números inteiros um método \"módulo\" seria totalmente plausível, afinal o resultado não é tão previsível assim. Por esse motivo, a classe Inteiro haverá um método a mais ``__abs__`` que calcula o valor absoluto do self. Segue abaixo a nossa classe Inteiro com herança. \n"
   ]
  },
  {
   "cell_type": "code",
   "execution_count": 8,
   "metadata": {},
   "outputs": [],
   "source": [
    "class Inteiro (Natural):\n",
    "\n",
    "    def __init__ (self, numero):\n",
    "\n",
    "        super().__init__(numero)\n",
    "\n",
    "    def __repr__ (self):\n",
    "        return (f'O valor deste número é {self.n}')\n",
    "    \n",
    "    def __abs__ (self):\n",
    "        return abs(self.n)"
   ]
  },
  {
   "cell_type": "markdown",
   "metadata": {},
   "source": [
    "Assim temos a classe Inteiro que herda os métodos de Natural mas adiciona a possibilidade de calcular o valor absoluto. Vamos brincar um pouco aqui."
   ]
  },
  {
   "cell_type": "code",
   "execution_count": 9,
   "metadata": {},
   "outputs": [
    {
     "name": "stdout",
     "output_type": "stream",
     "text": [
      "Os números 19 e -392 são inteiros.\n"
     ]
    }
   ],
   "source": [
    "inteiro_1 = Inteiro (19)\n",
    "inteiro_2 = Inteiro (-392)\n",
    "\n",
    "print (f'Os números {inteiro_1.n} e {inteiro_2.n} são inteiros.')"
   ]
  },
  {
   "cell_type": "code",
   "execution_count": 10,
   "metadata": {},
   "outputs": [
    {
     "data": {
      "text/plain": [
       "95"
      ]
     },
     "execution_count": 10,
     "metadata": {},
     "output_type": "execute_result"
    }
   ],
   "source": [
    "inteiro_1*5"
   ]
  },
  {
   "cell_type": "code",
   "execution_count": 11,
   "metadata": {},
   "outputs": [
    {
     "data": {
      "text/plain": [
       "-383"
      ]
     },
     "execution_count": 11,
     "metadata": {},
     "output_type": "execute_result"
    }
   ],
   "source": [
    "inteiro_2 + 9"
   ]
  },
  {
   "cell_type": "code",
   "execution_count": 12,
   "metadata": {},
   "outputs": [
    {
     "name": "stdout",
     "output_type": "stream",
     "text": [
      "Os valores absolutos de 19 e -392 são 19 e 392,respectivamente\n"
     ]
    }
   ],
   "source": [
    "print (f\"Os valores absolutos de {inteiro_1.n} e {inteiro_2.n} são {abs(inteiro_1)} e {abs(inteiro_2)},respectivamente\")"
   ]
  },
  {
   "cell_type": "markdown",
   "metadata": {},
   "source": [
    "Assim vemos que os métodos de Natural funcionam da mesma forma com os números inteiros, mas agora podemos usar abs para eles também. E se tentassemos o método __abs__ com os números Natural criados anteriormente..."
   ]
  },
  {
   "cell_type": "code",
   "execution_count": 13,
   "metadata": {},
   "outputs": [
    {
     "ename": "TypeError",
     "evalue": "bad operand type for abs(): 'Natural'",
     "output_type": "error",
     "traceback": [
      "\u001b[1;31m---------------------------------------------------------------------------\u001b[0m",
      "\u001b[1;31mTypeError\u001b[0m                                 Traceback (most recent call last)",
      "Cell \u001b[1;32mIn[13], line 1\u001b[0m\n\u001b[1;32m----> 1\u001b[0m \u001b[38;5;28;43mabs\u001b[39;49m\u001b[43m(\u001b[49m\u001b[43mnatural_1\u001b[49m\u001b[43m)\u001b[49m\n",
      "\u001b[1;31mTypeError\u001b[0m: bad operand type for abs(): 'Natural'"
     ]
    }
   ],
   "source": [
    "abs(natural_1)"
   ]
  },
  {
   "cell_type": "markdown",
   "metadata": {},
   "source": [
    "Como esperado dá erro, pois não definimos ele na classe Natural, por considerarmos redundante e desnecessário para uma Classe onde todos são números naturais.\n",
    "\n",
    "Podemos seguir então para a última Classe: Racional. Aqui o método adicionado será inspirado no método (Standard <-> Decimal) presente na maioria das calculadora. Este método consegue trocar o valor da sua forma padrão (fracional) para decimal. Porém, funciona apenas para números quebrados, onde essa conversão se torna necessária. Isto é, funciona apenas para números racionais que não sejam inteiros - justificando a escolha de uma herança aqui.\n",
    "\n",
    "Visto que o Python sempre entrega números quebrados em forma decimal, nosso método d_f (D --> F) transcreverá em string a forma fracional do número racional. Claro que também podemos transformar inteiros e naturais em frações, afinal eles também são racionais, mas isso é redundante, de novo, pois sempre será ele mesmo sobre 1 (em sua forma simplificada). Assim, esse método não era necessário quando não existia números decimais, mas se torna importante agora com a classe Racional."
   ]
  },
  {
   "cell_type": "code",
   "execution_count": 14,
   "metadata": {},
   "outputs": [],
   "source": [
    "class Racional (Inteiro):\n",
    "\n",
    "    def __init__ (self, numero):\n",
    "\n",
    "        super().__init__(numero)\n",
    "\n",
    "    def __repr__ (self):\n",
    "        return (f'O valor deste número é {self.n}')\n",
    "    \n",
    "    def d_f (self):\n",
    "\n",
    "        parte_inteira, parte_decimal = str(self.n).split(\".\")    \n",
    "        casas_dec = len (parte_decimal)\n",
    "        numerador = self.n *10**casas_dec\n",
    "        denominador = 10**casas_dec\n",
    "\n",
    "        if denominador >= numerador:\n",
    "            a = numerador\n",
    "            b = denominador\n",
    "        else:\n",
    "            a = denominador\n",
    "            b = numerador\n",
    "\n",
    "        while b !=0: #função de MDC tirada da referência 1\n",
    "            resto = a % b\n",
    "            a = b\n",
    "            b = resto\n",
    "        mdc = a\n",
    "\n",
    "        numerador /= mdc\n",
    "        denominador /= mdc\n",
    "\n",
    "        frac = f\"{int(numerador)}/{int(denominador)}\"\n",
    "        \n",
    "        return (f\"A forma fracional de {self.n} é {frac} \")"
   ]
  },
  {
   "cell_type": "markdown",
   "metadata": {},
   "source": [
    "Pronto, temos nossa classe! Esse é um método um pouquinho mais longo e também usamos ajuda da referência 1 para pegar uma função de MDC já pronta. Vamos então criar algumas variáveis racionais."
   ]
  },
  {
   "cell_type": "code",
   "execution_count": 20,
   "metadata": {},
   "outputs": [],
   "source": [
    "racional_1 = Racional (23.92)\n",
    "racional_2 = Racional (-3.2)\n",
    "racional_3 = Racional (8)"
   ]
  },
  {
   "cell_type": "code",
   "execution_count": 21,
   "metadata": {},
   "outputs": [
    {
     "data": {
      "text/plain": [
       "25.92"
      ]
     },
     "execution_count": 21,
     "metadata": {},
     "output_type": "execute_result"
    }
   ],
   "source": [
    "racional_1+ 2"
   ]
  },
  {
   "cell_type": "code",
   "execution_count": 23,
   "metadata": {},
   "outputs": [
    {
     "data": {
      "text/plain": [
       "'A forma fracional de 23.92 é 598/25 '"
      ]
     },
     "execution_count": 23,
     "metadata": {},
     "output_type": "execute_result"
    }
   ],
   "source": [
    "racional_1.d_f()"
   ]
  },
  {
   "cell_type": "code",
   "execution_count": 22,
   "metadata": {},
   "outputs": [
    {
     "data": {
      "text/plain": [
       "'A forma fracional de -3.2 é -16/5 '"
      ]
     },
     "execution_count": 22,
     "metadata": {},
     "output_type": "execute_result"
    }
   ],
   "source": [
    "racional_2.d_f()"
   ]
  },
  {
   "cell_type": "code",
   "execution_count": 18,
   "metadata": {},
   "outputs": [
    {
     "data": {
      "text/plain": [
       "3.2"
      ]
     },
     "execution_count": 18,
     "metadata": {},
     "output_type": "execute_result"
    }
   ],
   "source": [
    "abs(racional_2)"
   ]
  },
  {
   "cell_type": "code",
   "execution_count": 19,
   "metadata": {},
   "outputs": [
    {
     "data": {
      "text/plain": [
       "-91"
      ]
     },
     "execution_count": 19,
     "metadata": {},
     "output_type": "execute_result"
    }
   ],
   "source": [
    "racional_3 - 99"
   ]
  },
  {
   "cell_type": "markdown",
   "metadata": {},
   "source": [
    "A classe Racional herda os métodos passados, mas também inclui o novo método d_f. "
   ]
  },
  {
   "cell_type": "markdown",
   "metadata": {},
   "source": [
    "## Conclusão\n",
    "\n",
    "Dessa forma, os conjuntos númericos foram modelados utilizando classes herdeiras, seguindo a ordem de conjunto númericos cada vez mais abranjentes e que portanto novos métodos se tornam necessários a medida que avançamos nos métodos. Ou seja, as classes mais abranjentes herdavam operações mais simples como soma e subtração, mas adicionaram novas que se tornam necessárias com o surgimento de novas características nos números nas classes filhas (como números negativos na classe Inteiro e números decimais na classe Racional)\n"
   ]
  },
  {
   "cell_type": "markdown",
   "metadata": {},
   "source": [
    "## Referências \n",
    "\n",
    "[1] https://pt.stackoverflow.com/questions/292553/como-implementar-um-algoritmo-de-cálculo-de-mdc-recursivo-em-python"
   ]
  }
 ],
 "metadata": {
  "kernelspec": {
   "display_name": "Python 3",
   "language": "python",
   "name": "python3"
  },
  "language_info": {
   "codemirror_mode": {
    "name": "ipython",
    "version": 3
   },
   "file_extension": ".py",
   "mimetype": "text/x-python",
   "name": "python",
   "nbconvert_exporter": "python",
   "pygments_lexer": "ipython3",
   "version": "3.11.6"
  }
 },
 "nbformat": 4,
 "nbformat_minor": 2
}
