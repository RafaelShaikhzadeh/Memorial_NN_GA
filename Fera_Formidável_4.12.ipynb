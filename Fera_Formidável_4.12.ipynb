{
 "cells": [
  {
   "cell_type": "markdown",
   "metadata": {},
   "source": [
    "Descobrindo o palindromo\n",
    "===================\n",
    "\n"
   ]
  },
  {
   "cell_type": "markdown",
   "metadata": {},
   "source": [
    "## Objetivo\n",
    "\n"
   ]
  },
  {
   "cell_type": "markdown",
   "metadata": {},
   "source": [
    "Utilizar um algoritmo genético para descobrir uma palindromo.\n",
    "\n"
   ]
  },
  {
   "cell_type": "markdown",
   "metadata": {},
   "source": [
    "## Descrição do problema\n",
    "\n"
   ]
  },
  {
   "cell_type": "markdown",
   "metadata": {},
   "source": [
    "Uma palindromo formada por letras maiúsculas, minúsculas ou dígitos numéricos deve ser encontrada. Cada palpite de palindromo retorna uma informação numérica que quantifica o quão perto o palpite está da palindromo correta. O critério de parada deste problema é quando a palindromo for descoberta.\n",
    "\n"
   ]
  },
  {
   "cell_type": "markdown",
   "metadata": {},
   "source": [
    "## Resolução\n",
    "\n"
   ]
  },
  {
   "cell_type": "code",
   "execution_count": 1,
   "metadata": {},
   "outputs": [],
   "source": [
    "import random\n",
    "from string import ascii_lowercase, ascii_uppercase, digits\n",
    "\n",
    "from funcoes_fera_4_12 import populacao_palindromo as cria_populacao\n",
    "from funcoes_fera_4_12 import funcao_objetivo_pop_palindromo as funcao_objetivo\n",
    "from funcoes_fera_4_12 import selecao_torneio_max as funcao_selecao\n",
    "from funcoes_fera_4_12 import cruzamento_uniforme as funcao_cruzamento\n",
    "from funcoes_fera_4_12 import mutacao_espelhada as funcao_mutacao\n"
   ]
  },
  {
   "cell_type": "code",
   "execution_count": 2,
   "metadata": {},
   "outputs": [],
   "source": [
    "CARACTERES_POSSIVEIS = ascii_uppercase \n",
    "\n",
    "TAMANHO_PALINDROMO = 5\n",
    "TAMANHO_POPULACAO = 100\n",
    "CHANCE_DE_CRUZAMENTO = 0.5\n",
    "CHANCE_DE_MUTACAO = 1\n",
    "TAMANHO_TORNEIO = 3"
   ]
  },
  {
   "cell_type": "code",
   "execution_count": 3,
   "metadata": {
    "tags": []
   },
   "outputs": [],
   "source": [
    "populacao = cria_populacao(TAMANHO_POPULACAO, TAMANHO_PALINDROMO, CARACTERES_POSSIVEIS)"
   ]
  },
  {
   "cell_type": "code",
   "execution_count": 4,
   "metadata": {},
   "outputs": [],
   "source": [
    "LISTA_VOGAIS = ['A', 'E', 'I', 'O', 'U']"
   ]
  },
  {
   "cell_type": "code",
   "execution_count": 5,
   "metadata": {},
   "outputs": [
    {
     "name": "stdout",
     "output_type": "stream",
     "text": [
      "JIQIJ\n",
      "XUJUX\n",
      "UOKOU\n",
      "YBUBY\n",
      "AFJFA\n",
      "IPVPI\n",
      "ACJCA\n",
      "IPKPI\n",
      "AFKFA\n",
      "IXVXI\n"
     ]
    }
   ],
   "source": [
    "lista_palindromos = []\n",
    "\n",
    "\n",
    "\n",
    "for i in range (10):\n",
    "\n",
    "    tamanho_lista = len(lista_palindromos)\n",
    "    tamanho_lista_nova = tamanho_lista\n",
    "\n",
    "    while tamanho_lista_nova == tamanho_lista:\n",
    "        # Seleção\n",
    "        fitness = funcao_objetivo(populacao, LISTA_VOGAIS)        \n",
    "        selecionados = funcao_selecao(populacao, fitness, TAMANHO_TORNEIO)\n",
    "        \n",
    "        # Cruzamento\n",
    "        proxima_geracao = []\n",
    "        for pai, mae in zip(selecionados[::2], selecionados[1::2]):\n",
    "            individuo1, individuo2 = funcao_cruzamento(pai, mae, CHANCE_DE_CRUZAMENTO)\n",
    "            proxima_geracao.append(individuo1)\n",
    "            proxima_geracao.append(individuo2)\n",
    "        \n",
    "        # Mutação\n",
    "        funcao_mutacao(proxima_geracao, CHANCE_DE_MUTACAO)\n",
    "        \n",
    "        # Encerramento\n",
    "        populacao = proxima_geracao\n",
    "        \n",
    "        fitness = funcao_objetivo(populacao, LISTA_VOGAIS)\n",
    "        for f in fitness:\n",
    "            if f == 3:\n",
    "                indice = fitness.index(f)\n",
    "                candidato = populacao[indice]\n",
    "                if candidato not in lista_palindromos:\n",
    "                    lista_palindromos.append(candidato)\n",
    "                    print(\"\".join(candidato))\n",
    "\n",
    "        maior_fitness_observado = max(fitness)\n",
    "        tamanho_lista_nova = len(lista_palindromos)    \n",
    "    \n",
    "\n"
   ]
  },
  {
   "cell_type": "code",
   "execution_count": null,
   "metadata": {},
   "outputs": [
    {
     "data": {
      "text/plain": [
       "[['J', 'I', 'Q', 'I', 'J'],\n",
       " ['X', 'U', 'J', 'U', 'X'],\n",
       " ['U', 'O', 'K', 'O', 'U'],\n",
       " ['Y', 'B', 'U', 'B', 'Y'],\n",
       " ['A', 'F', 'J', 'F', 'A'],\n",
       " ['I', 'P', 'V', 'P', 'I'],\n",
       " ['A', 'C', 'J', 'C', 'A'],\n",
       " ['I', 'P', 'K', 'P', 'I'],\n",
       " ['A', 'F', 'K', 'F', 'A'],\n",
       " ['I', 'X', 'V', 'X', 'I']]"
      ]
     },
     "execution_count": 7,
     "metadata": {},
     "output_type": "execute_result"
    }
   ],
   "source": [
    "lista_palindromos"
   ]
  }
 ],
 "metadata": {
  "kernelspec": {
   "display_name": "Python 3",
   "language": "python",
   "name": "python3"
  },
  "language_info": {
   "codemirror_mode": {
    "name": "ipython",
    "version": 3
   },
   "file_extension": ".py",
   "mimetype": "text/x-python",
   "name": "python",
   "nbconvert_exporter": "python",
   "pygments_lexer": "ipython3",
   "version": "3.11.6"
  },
  "org": null
 },
 "nbformat": 4,
 "nbformat_minor": 4
}
