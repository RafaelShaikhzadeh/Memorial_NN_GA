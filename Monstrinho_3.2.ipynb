{
 "cells": [
  {
   "cell_type": "markdown",
   "metadata": {},
   "source": [
    "# Monstrinho 3.2 “Átomos não são bolinhas e ligações químicas não são pauzinhos — Prof. Julio\n",
    "\n",
    "## Instruções do Game Master\n",
    "\n",
    "**Objetivo:** Utilize classes de Python para modelar elementos químicos e moléculas.\n",
    "\n",
    "Considerações do experimento: Crie uma classe chamada Elemento. Todo elemento químico utilizado nesta tarefa deve ser uma instância desta classe. Toda instância\n",
    "da classe Elemento deve ter os seguintes atributos: símbolo do elemento, número atômico\n",
    "do elemento e peso atômico do elemento (fique à vontade para incluir outras informações\n",
    "se quiser). Crie uma classe chamada Molecula. Esta classe deve receber um dicionário\n",
    "onde as chaves representam os elementos e os valores representam a quantidade do respectivo elemento. A classe Molecula deve ter um método capaz de exibir o peso atômico da molécula criada e um método capaz gerar uma fórmula química (em string) para esta\n",
    "molécula.\n",
    "Observação: não é necessário que a fórmula química siga as regras oficiais da química,\n",
    "basta representar os elementos existentes e suas quantidades\n"
   ]
  },
  {
   "cell_type": "markdown",
   "metadata": {},
   "source": [
    "## Introdução \n",
    "\n",
    "Seguindo as instruções do GM, este notebook busca trabalhar com o novo conceito aprendido de classes. Aqui ele será aplicado no ramo da química, para criar uma classe de Elemento e outra classe para Molécula."
   ]
  },
  {
   "cell_type": "markdown",
   "metadata": {},
   "source": [
    "Vamos começar criando a classe Elemento, esta terá apenas dois métodos - os dois sendo dunder:\n",
    "\n",
    "1) init: Define os atributos/características que nosso elemento terá, e portanto será utilizado na hora de criar um novo elemento. Os atributos aqui escolhidos são o nome do elemento, seu símbolo, número atômico e peso atômico.\n",
    "2) repr: Define o que ocorre quando fazer print da nossa instância. Aqui optamos em incluir todos os atributos neste print."
   ]
  },
  {
   "cell_type": "code",
   "execution_count": 3,
   "metadata": {},
   "outputs": [],
   "source": [
    "class Elemento: \n",
    "    ''' Classe para representar elementos da tabela periódica'''\n",
    "\n",
    "    def __init__ (self, nome, simbolo_elemento, numero_atomico, peso_atomico):\n",
    "\n",
    "        self.nome = nome\n",
    "        self.simbolo = simbolo_elemento\n",
    "        self.z = numero_atomico\n",
    "        self.A = peso_atomico\n",
    "\n",
    "    def __repr__(self):\n",
    "        return (f\"{self.nome}, também conhecido pelo símbolo {self.simbolo}, possui número atômico = {self.z}\"\n",
    "        f\" e peso atômico = {self.A}\")"
   ]
  },
  {
   "cell_type": "markdown",
   "metadata": {},
   "source": [
    "Com nossa classe pronta, podemos criar instâncias da classe, isto é, os elementos que serão utilizados."
   ]
  },
  {
   "cell_type": "code",
   "execution_count": 4,
   "metadata": {},
   "outputs": [],
   "source": [
    "oxigenio = Elemento (\"Oxigênio\", \"O\", 8, 16)\n",
    "cloro = Elemento (\"Cloro\", \"Cl\", 17, 35.5)\n",
    "sodio = Elemento (\"Sódio\", \"Na\", 11, 22.9)\n",
    "magnesio = Elemento (\"Magnésio\", \"Mg\", 12, 24.3)"
   ]
  },
  {
   "cell_type": "markdown",
   "metadata": {},
   "source": [
    "Poderiamos seguir a tarde inteira com isso, mas vamos nos contentar e seguir com o suficiente. Vamos testar o que obtemos, brincado com nossos métodos."
   ]
  },
  {
   "cell_type": "code",
   "execution_count": 5,
   "metadata": {},
   "outputs": [
    {
     "name": "stdout",
     "output_type": "stream",
     "text": [
      "Cloro, também conhecido pelo símbolo Cl, possui número atômico = 17 e peso atômico = 35.5\n"
     ]
    }
   ],
   "source": [
    "print (cloro)"
   ]
  },
  {
   "cell_type": "code",
   "execution_count": 6,
   "metadata": {},
   "outputs": [
    {
     "name": "stdout",
     "output_type": "stream",
     "text": [
      "Um átomo de oxigênio possui 8 nêutrons\n"
     ]
    }
   ],
   "source": [
    "neutrons_oxigenio = oxigenio.A - oxigenio.z\n",
    "\n",
    "print (f'Um átomo de oxigênio possui {neutrons_oxigenio} nêutrons')"
   ]
  },
  {
   "cell_type": "markdown",
   "metadata": {},
   "source": [
    "Tudo certo, vamos seguir! Podemos criar a classe molécula também. Esta terá três métodos: \n",
    "\n",
    "1) init: Recebe um dicionário no init com os elementos presentes (chaves) e sua quantidade (item).\n",
    "2) repr: O repr nesse caso nos dará a fórmula química da mólecula, isto é, elementos presentes e quantos de cada. Decidi usar isso no repr por questão de conveniência, visto que a fórmula química bem representa uma molécula.\n",
    "3) Massa: Calcula a massa molecular, ao somar as massas atômicas presente."
   ]
  },
  {
   "cell_type": "code",
   "execution_count": 7,
   "metadata": {},
   "outputs": [],
   "source": [
    "class Molecula:\n",
    "    ''' Classe para representar moléculas, revelando suas fórmulas químicas e sua massa molecular'''\n",
    "\n",
    "    def __init__(self, dicionario):\n",
    "        self.molecula = dicionario\n",
    "    \n",
    "    def __repr__ (self):\n",
    "        formula =''\n",
    "        for i in self.molecula:\n",
    "            formula += i.simbolo\n",
    "            formula += str(self.molecula[i])\n",
    "        return formula\n",
    "      \n",
    "    def massa (self):\n",
    "        massa = 0\n",
    "        for i in self.molecula:\n",
    "            massa += i.A*self.molecula[i]\n",
    "        return massa"
   ]
  },
  {
   "cell_type": "markdown",
   "metadata": {},
   "source": [
    "Vamos criar algumas moléculas aqui. Lembrando que o único atributo delas é um dicionario com os elementos presentes (chaves) e suas respectivas quantidades (itens)."
   ]
  },
  {
   "cell_type": "code",
   "execution_count": 9,
   "metadata": {},
   "outputs": [],
   "source": [
    "oxido_magnesio = Molecula ({magnesio: 1,\n",
    "                  oxigenio: 1})\n",
    "\n",
    "sal_cozinha = Molecula ({sodio: 1,\n",
    "                         cloro:1})\n",
    "\n",
    "cloreto_magnesio = Molecula ({magnesio: 1,\n",
    "                  cloro: 2})"
   ]
  },
  {
   "cell_type": "markdown",
   "metadata": {},
   "source": [
    "Vamos agora testar os métodos criados."
   ]
  },
  {
   "cell_type": "code",
   "execution_count": 21,
   "metadata": {},
   "outputs": [
    {
     "data": {
      "text/plain": [
       "Mg1O1"
      ]
     },
     "execution_count": 21,
     "metadata": {},
     "output_type": "execute_result"
    }
   ],
   "source": [
    "\n",
    "oxido_magnesio"
   ]
  },
  {
   "cell_type": "code",
   "execution_count": 22,
   "metadata": {},
   "outputs": [
    {
     "name": "stdout",
     "output_type": "stream",
     "text": [
      "O óxido de magnésio também é conhecido por sua fórmula Mg1O1\n"
     ]
    }
   ],
   "source": [
    "print (f'O óxido de magnésio também é conhecido por sua fórmula {oxido_magnesio}' )"
   ]
  },
  {
   "cell_type": "code",
   "execution_count": 25,
   "metadata": {},
   "outputs": [
    {
     "name": "stdout",
     "output_type": "stream",
     "text": [
      "O sal de cozinha (Na1Cl1) possui uma massa molecular de 58.4 u,a., enquanto a massa do cloreto de magnésio (Mg1Cl2) é de 95.3 u.a., assim a molécula Mg1Cl2 é mais pesada\n"
     ]
    }
   ],
   "source": [
    "Mr_sal = sal_cozinha.massa()\n",
    "Mr_cloreto_magnesio = cloreto_magnesio.massa()\n",
    "\n",
    "mais_pesado = sal_cozinha\n",
    "if Mr_cloreto_magnesio > Mr_sal:\n",
    "    mais_pesado = cloreto_magnesio\n",
    "\n",
    "print (f'O sal de cozinha ({sal_cozinha}) possui uma massa molecular de {Mr_sal} u,a., enquanto'\n",
    "       f' a massa do cloreto de magnésio ({cloreto_magnesio}) é de {Mr_cloreto_magnesio} u.a.,'\n",
    "        f' assim a molécula {mais_pesado} é mais pesada')"
   ]
  },
  {
   "cell_type": "markdown",
   "metadata": {},
   "source": [
    "## Conclusão\n",
    "\n",
    "Assim, criamos nossas duas classes (Elemento e Molécula) com seus métodos funcionando corretamente. Isto trouxe uma visão na prática sobre um uso de classes."
   ]
  }
 ],
 "metadata": {
  "kernelspec": {
   "display_name": "Python 3",
   "language": "python",
   "name": "python3"
  },
  "language_info": {
   "codemirror_mode": {
    "name": "ipython",
    "version": 3
   },
   "file_extension": ".py",
   "mimetype": "text/x-python",
   "name": "python",
   "nbconvert_exporter": "python",
   "pygments_lexer": "ipython3",
   "version": "3.11.6"
  }
 },
 "nbformat": 4,
 "nbformat_minor": 2
}
