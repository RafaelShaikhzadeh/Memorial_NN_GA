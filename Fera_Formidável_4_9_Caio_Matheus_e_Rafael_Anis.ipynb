{
 "cells": [
  {
   "cell_type": "markdown",
   "metadata": {},
   "source": [
    "## **INTRODUÇÃO** \n"
   ]
  },
  {
   "cell_type": "markdown",
   "metadata": {},
   "source": [
    "Esta atividade se baseia no problema da senha de modo a não possuir o conhecimento acerca do tamanho dessa senha, permitindo uma variação de 1 a 30 caracteres na resposta objetivada. Para resolver, realizaremos adaptações no algoritmo genético realizado em python puro para que seja possível obter uma resposta correta durante as gerações."
   ]
  },
  {
   "cell_type": "markdown",
   "metadata": {},
   "source": [
    "---"
   ]
  },
  {
   "cell_type": "markdown",
   "metadata": {},
   "source": [
    "## **AUTORES E CONTRIBUIÇÕES**"
   ]
  },
  {
   "cell_type": "markdown",
   "metadata": {},
   "source": [
    "**Autores:**\n",
    "\n",
    "* Caio Matheus Leão Dantas\n",
    "* Rafael Anis Shaikhzadeh Santos\n",
    "\n",
    "**Contribuições:** A discussão sobre o problema e desenvolvimento do código foram realizados de forma concomitante e presencial pelos autores, desenvolvendo num só notebook de forma revezada."
   ]
  },
  {
   "cell_type": "markdown",
   "metadata": {},
   "source": [
    "---"
   ]
  },
  {
   "cell_type": "markdown",
   "metadata": {},
   "source": [
    "## **CÓDIGO**"
   ]
  },
  {
   "cell_type": "markdown",
   "metadata": {},
   "source": [
    "Realizamos, como nosso primeiro passo, a importação das bibliotecas que serão utilizadas no código e de funções definidas num arquivo auxiliar de formato \"*.py*\":"
   ]
  },
  {
   "cell_type": "code",
   "execution_count": 1,
   "metadata": {},
   "outputs": [],
   "source": [
    "import random\n",
    "from string import ascii_lowercase, ascii_uppercase, digits\n",
    "\n",
    "from funcoes_feras import populacao_senha_variavel as cria_populacao\n",
    "from funcoes_feras import f_objetivo_pop_senha_variavel as funcao_objetivo\n",
    "from funcoes_feras import selecao_torneio_min as funcao_selecao\n",
    "from funcoes_feras import cruzamento_uniforme_tamanho_variavel as funcao_cruzamento\n",
    "from funcoes_feras import mutacao_simples as funcao_mutacao1\n",
    "from funcoes_feras import mutacao_salto as funcao_mutacao2"
   ]
  },
  {
   "cell_type": "markdown",
   "metadata": {},
   "source": [
    "Definimos a nossa senha e os hiperparâmetros que serão utilizados no algoritmo:"
   ]
  },
  {
   "cell_type": "code",
   "execution_count": 2,
   "metadata": {},
   "outputs": [],
   "source": [
    "SENHA = list(\"LUMItalksmelhorquedialogos2025\")\n",
    "CARACTERES_POSSIVEIS = ascii_lowercase + ascii_uppercase + digits\n",
    "\n",
    "TAMANHO_MICRO_POPULACAO = 100\n",
    "TAMANHO_MIN = 1\n",
    "TAMANHO_MAX = 30\n",
    "CHANCE_DE_CRUZAMENTO = 0.5\n",
    "CHANCE_DE_MUTACAO = 0.025\n",
    "TAMANHO_TORNEIO = 9"
   ]
  },
  {
   "cell_type": "markdown",
   "metadata": {},
   "source": [
    "Criamos uma população a partir das definições realizadas anteriormente:"
   ]
  },
  {
   "cell_type": "code",
   "execution_count": 3,
   "metadata": {
    "tags": []
   },
   "outputs": [],
   "source": [
    "populacao = cria_populacao(TAMANHO_MICRO_POPULACAO, TAMANHO_MIN, TAMANHO_MAX, CARACTERES_POSSIVEIS)"
   ]
  },
  {
   "cell_type": "markdown",
   "metadata": {},
   "source": [
    "E realizamos os processo de `seleção`, `cruzamento`, `mutação` e `análise do melhor indíviduo` no nosso algoritmo para encontrarmos a senha buscada:"
   ]
  },
  {
   "cell_type": "code",
   "execution_count": 4,
   "metadata": {},
   "outputs": [
    {
     "name": "stdout",
     "output_type": "stream",
     "text": [
      "1 EJZgoeAfwkSmWjSxogFvqmTjliJ5G\n",
      "2 EbPgypudXaZjWYpinkivcAlmohDFE\n",
      "3 EbPgbZzajaeqSqTioiIkcAlmop58M5\n",
      "4 EbPDSbuYjieqSqhZnJiydqlmop3845\n",
      "5 BXLbouzusltujozaxdivjoqjle2815\n",
      "7 BYLHodVorlgdjoznoyicjoojle2815\n",
      "8 EQMGwZudloejWqqozicicllmap6055\n",
      "9 EXZCudyktieqhsrrwcfccmkcok4843\n",
      "10 JWIHpbnvrkendsnspickdmkglp4855\n",
      "11 HXMIqaumloejgsrovgfigpljoh2013\n",
      "12 JXMIphmnrneneqruxcikdqogop3245\n",
      "13 JTMIyemnrnejgtrsxickdqogos4045\n",
      "14 JTLHucmksoejjqtroebgcoojop2015\n",
      "15 JWLIyalktkeqhsrrpecicoogou2013\n",
      "16 JTMIwdmntnejgorqwcbkdmognt2015\n",
      "17 JTMIyalktlemgorovecicmogou2043\n",
      "18 JXMIuankroemhoqqwebicmogot2045\n",
      "19 NTMItalkrnemgorqxeficlogot3045\n",
      "20 JUMItalkrlenhorqwdckcmogos2015\n",
      "21 JTMItalkrnenhorqveciclogos2045\n",
      "22 JUMItalktlemhorrveciclogos2015\n",
      "23 JUMItalksnelhorqvecicmogos2015\n",
      "25 JUMItalksmemhorqueciclogos2035\n",
      "26 JUMItalksmemhorqueciclogos2025\n",
      "27 JUMItalksmemhorquediclogos2025\n",
      "28 JUMItalksmelhorquediclogos2025\n",
      "29 JUMItalksmelhorquediblogos2025\n",
      "30 KUMItalksmelhorquediblogos2025\n",
      "32 LUMItalksmelhorquediblogos2025\n",
      "34 LUMItalksmelhorquedialogos2025\n"
     ]
    }
   ],
   "source": [
    "menor_fitness_geral = float(\"inf\")\n",
    "geracao = 0\n",
    "\n",
    "while menor_fitness_geral != 0:\n",
    "    \n",
    "    # Seleção\n",
    "    fitness = funcao_objetivo(populacao, SENHA)        \n",
    "    selecionados = funcao_selecao(populacao, fitness, TAMANHO_TORNEIO)\n",
    "    \n",
    "    # Cruzamento\n",
    "    proxima_geracao = []\n",
    "    for pai, mae in zip(selecionados[::2], selecionados[1::2]):\n",
    "        individuo1, individuo2 = funcao_cruzamento(pai, mae, CHANCE_DE_CRUZAMENTO)\n",
    "        proxima_geracao.append(individuo1)\n",
    "        proxima_geracao.append(individuo2)\n",
    "    \n",
    "    # Mutação\n",
    "    funcao_mutacao1(proxima_geracao, CHANCE_DE_MUTACAO, list(CARACTERES_POSSIVEIS))\n",
    "    funcao_mutacao2(proxima_geracao, CHANCE_DE_MUTACAO, list(CARACTERES_POSSIVEIS))\n",
    "    \n",
    "    # Encerramento\n",
    "    populacao = proxima_geracao\n",
    "    geracao += 1\n",
    "    \n",
    "    fitness = funcao_objetivo(populacao, SENHA)\n",
    "    menor_fitness_observado = min(fitness)\n",
    "    \n",
    "    if menor_fitness_observado < menor_fitness_geral:\n",
    "        menor_fitness_geral = menor_fitness_observado\n",
    "        indice = fitness.index(menor_fitness_observado)\n",
    "        candidato = populacao[indice]\n",
    "        print(geracao, \"\".join(candidato))"
   ]
  },
  {
   "cell_type": "markdown",
   "metadata": {},
   "source": [
    "### **Alterações em funções**\n",
    "\n",
    "Para a resolução desse problema, ocorreu a adaptação de duas funções importadas, de modo que: \n",
    "\n",
    "***1. Populacao senha variável:*** Aqui criamos uma população que possui candidatos com todas possibilidades de caracteres, de 1 a 30, e há a mais quantidade de indivíduos para cada tamanho. Chamamos um grupo de indivíduos de mesmo tamanho de micropopulação. A razão de fazermos isso é garantir que todos tamanhos possíveis sejam abarcados na primeira população.\n",
    "\n",
    "***2. Função objetivo:*** Além de calcular a distância entre caracteres, também adicionamos uma penalidade para a diferença de tamanho entre o candidato e a senha verdadeira. Isso foi feito, adicionando aos caracteres a mais ou a menos o caracter de valor chr() = 0, assim, dando uma penalidade grande para candidatos de tamanho incorreto.\n"
   ]
  },
  {
   "cell_type": "markdown",
   "metadata": {},
   "source": [
    "---"
   ]
  },
  {
   "cell_type": "markdown",
   "metadata": {},
   "source": [
    "## **CONCLUSÃO**"
   ]
  },
  {
   "cell_type": "markdown",
   "metadata": {},
   "source": [
    "Percebemos que alterando como se cria a população e como se calcula o fitness, conseguimos um algoritmo genético que possa descobrir uma senha de tamanho variável. Este trabalho nos permitiu perceber o quão versátil são algoritmos genéticos, podendo ser aplicando pra diversos problemas e suas variações, necessitando apenas de ajustes personalizados."
   ]
  },
  {
   "cell_type": "markdown",
   "metadata": {},
   "source": [
    "---"
   ]
  },
  {
   "cell_type": "markdown",
   "metadata": {},
   "source": [
    "## **REFERÊNCIAS**\n",
    "\n",
    "**[1]** CASSAR, Daniel. Redes Neurais e Algoritmos Genéticos. 2025. Material de Aula."
   ]
  }
 ],
 "metadata": {
  "kernelspec": {
   "display_name": "Python 3",
   "language": "python",
   "name": "python3"
  },
  "language_info": {
   "codemirror_mode": {
    "name": "ipython",
    "version": 3
   },
   "file_extension": ".py",
   "mimetype": "text/x-python",
   "name": "python",
   "nbconvert_exporter": "python",
   "pygments_lexer": "ipython3",
   "version": "3.11.6"
  },
  "org": null
 },
 "nbformat": 4,
 "nbformat_minor": 4
}
