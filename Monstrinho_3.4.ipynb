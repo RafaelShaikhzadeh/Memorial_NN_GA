{
 "cells": [
  {
   "cell_type": "markdown",
   "id": "0dd76d11",
   "metadata": {},
   "source": [
    "# 3.4 __ dunder __\n",
    "\n",
    "## Instruções do Game Master\n",
    "\n",
    "**Objetivo:**  Se informe sobre métodos dunder que não foram utilizados no material de\n",
    "aula e crie uma classe que contenha pelo menos 3 destes métodos dunder. Faça códigos\n",
    "onde cada um destes métodos dunder seja acessado sem os chamar explicitamente (exemplo: não é para rodar a.__ add__(b) mas sim a + b para o caso do dunder __ add__) "
   ]
  },
  {
   "cell_type": "markdown",
   "id": "bf25431b",
   "metadata": {},
   "source": [
    "## Introdução\n",
    "\n",
    "O objetivo desse notebook é criar uma classe que use dunders que não foram vistos em sala e aplicar eles na prática sem chamá-los explicitamente. Os dunders foram escolhidos a partir da referência [1].\n",
    "\n",
    "\n",
    "Para usar os dunders, usaremos um exemplo didático. A classe que vamos criar é uma Playlist! Seu init já incluirá uma lista de músicas. Mas sinta-se a vontade para adicionar ou remover músicas com os métodos add_musica ou remove_musicas, respectivamente. Já os métodos dunders serão os seguintes:\n",
    "\n",
    "1) __iter__: Permite iterar a nossa playlist\n",
    "2) __getitem__: Permite escolher um indice da nossa playlist - ex. descobrir a segunda música: minha_playlist[1]\n",
    "3) __str__: Parecido com o __repr__, mas é chamado quando usarmos um print apenas."
   ]
  },
  {
   "cell_type": "markdown",
   "id": "665783c0",
   "metadata": {},
   "source": []
  },
  {
   "cell_type": "code",
   "execution_count": 47,
   "id": "0c70f60d",
   "metadata": {},
   "outputs": [],
   "source": [
    "class Playlist:\n",
    "    def __init__(self, nome, lista_musicas):\n",
    "        self.nome = nome\n",
    "        if isinstance(lista_musicas, list):\n",
    "            self.musicas = lista_musicas\n",
    "        else:\n",
    "             self.musicas = [lista_musicas]\n",
    "\n",
    "    def add_musica(self, musica):\n",
    "        self.musicas.append(musica)\n",
    "\n",
    "    def remove_musica(self, musica):\n",
    "        if musica in self.musicas:\n",
    "            self.musicas.remove(musica)\n",
    "\n",
    "    def __iter__(self):\n",
    "        return iter(self.musicas)\n",
    "\n",
    "    def __getitem__(self,i):\n",
    "        return self.musicas[i]\n",
    "\n",
    "    def __str__(self):\n",
    "        return f\"Playlist: {self.nome}, Músicas: {', '.join(self.musicas)}\""
   ]
  },
  {
   "cell_type": "markdown",
   "id": "59cddde4",
   "metadata": {},
   "source": [
    "Podemos então criar nossa playlist e printá-la (o que chamará __str__ de maneira implícita)."
   ]
  },
  {
   "cell_type": "code",
   "execution_count": 48,
   "id": "b58ce1b1",
   "metadata": {},
   "outputs": [
    {
     "name": "stdout",
     "output_type": "stream",
     "text": [
      "Playlist: Playlist de jovem sonhador, Músicas: Teenage Fantasy, Teenage Blue, Teenagers, Tão Jovens\n"
     ]
    }
   ],
   "source": [
    "nova_playlist = Playlist(\"Playlist de jovem sonhador\", [\"Teenage Fantasy\", \"Teenage Blue\", \"Teenagers\", \"Tão Jovens\"])\n",
    "print(nova_playlist)"
   ]
  },
  {
   "cell_type": "markdown",
   "id": "30416744",
   "metadata": {},
   "source": [
    "Podemos descobrir também qual a música no índice X da playlist. Por exemplo, qual será a segunda música?"
   ]
  },
  {
   "cell_type": "code",
   "execution_count": 49,
   "id": "32fc6c32",
   "metadata": {},
   "outputs": [
    {
     "data": {
      "text/plain": [
       "'Teenage Blue'"
      ]
     },
     "execution_count": 49,
     "metadata": {},
     "output_type": "execute_result"
    }
   ],
   "source": [
    "nova_playlist[1]"
   ]
  },
  {
   "cell_type": "markdown",
   "id": "bc1cdc19",
   "metadata": {},
   "source": [
    "Aaaah, teenage blue. Nah.. Vamos tirar essa da playlist"
   ]
  },
  {
   "cell_type": "code",
   "execution_count": 50,
   "id": "ff954846",
   "metadata": {},
   "outputs": [
    {
     "name": "stdout",
     "output_type": "stream",
     "text": [
      "Playlist: Playlist de jovem sonhador, Músicas: Teenage Fantasy, Teenagers, Tão Jovens\n"
     ]
    }
   ],
   "source": [
    "nova_playlist.remove_musica(\"Teenage Blue\")\n",
    "print (nova_playlist)"
   ]
  },
  {
   "cell_type": "markdown",
   "id": "b6611976",
   "metadata": {},
   "source": [
    "Apesar do print já nos mostrar todas músicas e sua ordem, também podemos ver isso iterando a playlist."
   ]
  },
  {
   "cell_type": "code",
   "execution_count": 51,
   "id": "3f6366fd",
   "metadata": {},
   "outputs": [
    {
     "name": "stdout",
     "output_type": "stream",
     "text": [
      "Teenage Fantasy\n",
      "Teenagers\n",
      "Tão Jovens\n"
     ]
    }
   ],
   "source": [
    "for i in nova_playlist:\n",
    "    print(i)"
   ]
  },
  {
   "cell_type": "markdown",
   "id": "a15efb94",
   "metadata": {},
   "source": [
    "Poderíamos brincar um pouco mais com um iter e printar a música e sua posição na playlist"
   ]
  },
  {
   "cell_type": "code",
   "execution_count": 53,
   "id": "cb0e0a6d",
   "metadata": {},
   "outputs": [
    {
     "name": "stdout",
     "output_type": "stream",
     "text": [
      "A música número 1 é Teenage Fantasy\n",
      "A música número 2 é Teenagers\n",
      "A música número 3 é Tão Jovens\n"
     ]
    }
   ],
   "source": [
    "for i,l in enumerate(nova_playlist):\n",
    "    print(\"A música número\", i+1, \"é\", l)"
   ]
  },

  {
   "cell_type": "markdown",
   "id": "ba1181e7",
   "metadata": {},
   "source": [
    "## Conclusão\n",
    "\n",
    "Apesar de usarmos um exemplo simples e puramente didático, podemos aprender sobre três novos métodos de dunder (str, iter e getitem), enquanto me divertia."
   ]
  },
  {
   "cell_type": "markdown",
   "id": "8749210e",
   "metadata": {},
   "source": [
    "## Referências \n",
    "\n",
    "[1] Hunner, T. (2024, March 19). Every dunder method in Python. Pythonmorsels.com; Python Morsels. https://www.pythonmorsels.com/every-dunder-method/\n",
    "\n"
   ]
  }
 ],
 "metadata": {
  "kernelspec": {
   "display_name": "base",
   "language": "python",
   "name": "python3"
  },
  "language_info": {
   "codemirror_mode": {
    "name": "ipython",
    "version": 3
   },
   "file_extension": ".py",
   "mimetype": "text/x-python",
   "name": "python",
   "nbconvert_exporter": "python",
   "pygments_lexer": "ipython3",
   "version": "3.11.5"
  }
 },
 "nbformat": 4,
 "nbformat_minor": 5
}
