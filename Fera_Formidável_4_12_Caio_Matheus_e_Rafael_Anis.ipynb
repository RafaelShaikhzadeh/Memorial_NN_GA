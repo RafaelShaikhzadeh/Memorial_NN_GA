{
 "cells": [
  {
   "cell_type": "markdown",
   "metadata": {},
   "source": [
    "## **INTRODUÇÃO**"
   ]
  },
  {
   "cell_type": "markdown",
   "metadata": {},
   "source": [
    "Abordaremos, nesta atividade, a utilização de um algoritmo genético para encontrar palíndromos (que não precisam formar necessariamente palavras reais em português ou qualquer outro idioma) de 5 letras que contenham ao menos uma vogal contida em seu decorrer.\n",
    "\n",
    "Para a resolução desse problema, serão realizadas somente letras maiúsculas e com uma análise de \"pontuação\" para cada característica favorável que o candidato a palíndromo possuir."
   ]
  },
  {
   "cell_type": "markdown",
   "metadata": {},
   "source": [
    "---"
   ]
  },
  {
   "cell_type": "markdown",
   "metadata": {},
   "source": [
    "## **AUTORES E CONTRIBUIÇÕES**"
   ]
  },
  {
   "cell_type": "markdown",
   "metadata": {},
   "source": [
    "**Autores:**\n",
    "\n",
    "* Caio Matheus Leão Dantas\n",
    "* Rafael Anis Shaikhzadeh Santos\n",
    "\n",
    "**Contribuições:** A discussão sobre o problema e desenvolvimento do código foram realizados de forma concomitante e presencial pelos autores, desenvolvendo num só notebook de forma revezada"
   ]
  },
  {
   "cell_type": "markdown",
   "metadata": {},
   "source": [
    "---"
   ]
  },
  {
   "cell_type": "markdown",
   "metadata": {},
   "source": [
    "## **CÓDIGO**\n"
   ]
  },
  {
   "cell_type": "markdown",
   "metadata": {},
   "source": [
    "O primeiro passo, como costumeiro, será a importação das bibliotecas que serão utilizadas no decorrer do código, além das funções definidas num arquivo auxiliar de formato \"*.py*\":"
   ]
  },
  {
   "cell_type": "code",
   "execution_count": 1,
   "metadata": {},
   "outputs": [],
   "source": [
    "import random\n",
    "from pprint import pprint\n",
    "from string import ascii_uppercase\n",
    "\n",
    "from funcoes_feras import populacao_palindromo as cria_populacao\n",
    "from funcoes_feras import funcao_objetivo_pop_palindromo as funcao_objetivo\n",
    "from funcoes_feras import selecao_torneio_max as funcao_selecao\n",
    "from funcoes_feras import cruzamento_uniforme as funcao_cruzamento\n",
    "from funcoes_feras import mutacao_espelhada as funcao_mutacao\n"
   ]
  },
  {
   "cell_type": "markdown",
   "metadata": {},
   "source": [
    "Com tudo importado, definimos as constantes do nosso problema, avaliando as características do algoritmo genético que iremos trabalhar e os caracteres possíveis de serem selecionados como genes nos candidatos a palíndromos:"
   ]
  },
  {
   "cell_type": "code",
   "execution_count": 2,
   "metadata": {},
   "outputs": [],
   "source": [
    "CARACTERES_POSSIVEIS = ascii_uppercase \n",
    "\n",
    "TAMANHO_PALINDROMO = 5\n",
    "TAMANHO_POPULACAO = 100\n",
    "CHANCE_DE_CRUZAMENTO = 0.5\n",
    "CHANCE_DE_MUTACAO = 1\n",
    "TAMANHO_TORNEIO = 3"
   ]
  },
  {
   "cell_type": "markdown",
   "metadata": {},
   "source": [
    "Criamos uma população contida de vários possíveis palíndromos que serão utilizados durante o algoritmo para que os processos se desenrolem e os palíndromos buscados sejam encontrados:"
   ]
  },
  {
   "cell_type": "code",
   "execution_count": 3,
   "metadata": {
    "tags": []
   },
   "outputs": [
    {
     "name": "stdout",
     "output_type": "stream",
     "text": [
      "[['D', 'X', 'U', 'C', 'M'],\n",
      " ['R', 'S', 'O', 'Y', 'L'],\n",
      " ['A', 'I', 'S', 'K', 'B'],\n",
      " ['R', 'O', 'O', 'Y', 'N'],\n",
      " ['F', 'O', 'Q', 'I', 'E'],\n",
      " ['S', 'V', 'M', 'U', 'E'],\n",
      " ['A', 'Y', 'V', 'B', 'M'],\n",
      " ['F', 'Y', 'W', 'A', 'S'],\n",
      " ['B', 'S', 'Q', 'A', 'G'],\n",
      " ['W', 'V', 'R', 'D', 'O'],\n",
      " ['E', 'S', 'M', 'D', 'I'],\n",
      " ['G', 'J', 'E', 'L', 'D'],\n",
      " ['Y', 'D', 'F', 'V', 'T'],\n",
      " ['H', 'H', 'R', 'J', 'Z'],\n",
      " ['S', 'H', 'S', 'I', 'K'],\n",
      " ['L', 'O', 'J', 'M', 'Z'],\n",
      " ['Z', 'T', 'K', 'V', 'H'],\n",
      " ['V', 'P', 'A', 'J', 'Y'],\n",
      " ['M', 'C', 'V', 'Q', 'H'],\n",
      " ['M', 'B', 'R', 'G', 'G'],\n",
      " ['X', 'I', 'E', 'N', 'P'],\n",
      " ['T', 'F', 'J', 'U', 'T'],\n",
      " ['L', 'J', 'M', 'C', 'Y'],\n",
      " ['V', 'I', 'K', 'M', 'K'],\n",
      " ['Z', 'Q', 'O', 'Y', 'K'],\n",
      " ['F', 'I', 'N', 'G', 'T'],\n",
      " ['B', 'W', 'A', 'N', 'A'],\n",
      " ['H', 'G', 'M', 'L', 'U'],\n",
      " ['I', 'S', 'P', 'K', 'A'],\n",
      " ['E', 'L', 'P', 'J', 'A'],\n",
      " ['R', 'M', 'R', 'O', 'J'],\n",
      " ['T', 'P', 'W', 'W', 'I'],\n",
      " ['T', 'V', 'K', 'G', 'W'],\n",
      " ['U', 'L', 'E', 'S', 'D'],\n",
      " ['J', 'J', 'Z', 'Y', 'I'],\n",
      " ['W', 'Y', 'D', 'O', 'M'],\n",
      " ['Q', 'H', 'R', 'K', 'O'],\n",
      " ['V', 'X', 'O', 'V', 'T'],\n",
      " ['O', 'P', 'G', 'C', 'Y'],\n",
      " ['G', 'D', 'W', 'A', 'O'],\n",
      " ['E', 'E', 'M', 'U', 'N'],\n",
      " ['F', 'O', 'D', 'L', 'Q'],\n",
      " ['G', 'T', 'M', 'K', 'Y'],\n",
      " ['S', 'M', 'T', 'Q', 'K'],\n",
      " ['U', 'E', 'N', 'T', 'L'],\n",
      " ['S', 'V', 'K', 'B', 'S'],\n",
      " ['F', 'W', 'P', 'V', 'A'],\n",
      " ['N', 'F', 'U', 'Y', 'Q'],\n",
      " ['E', 'Q', 'P', 'A', 'B'],\n",
      " ['J', 'B', 'H', 'B', 'Q'],\n",
      " ['L', 'P', 'H', 'V', 'H'],\n",
      " ['U', 'V', 'K', 'N', 'X'],\n",
      " ['I', 'Z', 'V', 'X', 'G'],\n",
      " ['R', 'K', 'B', 'U', 'M'],\n",
      " ['E', 'O', 'F', 'W', 'X'],\n",
      " ['P', 'O', 'W', 'V', 'D'],\n",
      " ['H', 'G', 'H', 'F', 'U'],\n",
      " ['K', 'A', 'N', 'R', 'W'],\n",
      " ['X', 'Z', 'T', 'J', 'F'],\n",
      " ['N', 'C', 'C', 'L', 'N'],\n",
      " ['D', 'V', 'L', 'S', 'Q'],\n",
      " ['G', 'J', 'M', 'S', 'V'],\n",
      " ['R', 'A', 'S', 'M', 'Y'],\n",
      " ['A', 'M', 'L', 'B', 'R'],\n",
      " ['F', 'D', 'J', 'I', 'A'],\n",
      " ['M', 'P', 'P', 'A', 'F'],\n",
      " ['F', 'Y', 'C', 'G', 'T'],\n",
      " ['Y', 'P', 'C', 'G', 'I'],\n",
      " ['Y', 'L', 'T', 'U', 'M'],\n",
      " ['O', 'C', 'Z', 'F', 'M'],\n",
      " ['P', 'D', 'V', 'O', 'K'],\n",
      " ['D', 'B', 'F', 'U', 'O'],\n",
      " ['I', 'G', 'L', 'J', 'M'],\n",
      " ['G', 'B', 'G', 'Z', 'S'],\n",
      " ['V', 'L', 'E', 'W', 'Y'],\n",
      " ['P', 'A', 'L', 'Q', 'N'],\n",
      " ['Z', 'M', 'F', 'M', 'A'],\n",
      " ['M', 'I', 'L', 'T', 'A'],\n",
      " ['I', 'A', 'G', 'I', 'V'],\n",
      " ['M', 'G', 'F', 'H', 'H'],\n",
      " ['G', 'D', 'N', 'P', 'I'],\n",
      " ['H', 'D', 'R', 'A', 'H'],\n",
      " ['X', 'P', 'K', 'D', 'J'],\n",
      " ['M', 'D', 'I', 'O', 'D'],\n",
      " ['X', 'K', 'F', 'S', 'G'],\n",
      " ['P', 'Z', 'H', 'C', 'O'],\n",
      " ['S', 'U', 'F', 'Y', 'T'],\n",
      " ['T', 'B', 'O', 'Q', 'F'],\n",
      " ['Z', 'V', 'M', 'D', 'D'],\n",
      " ['D', 'X', 'A', 'Q', 'T'],\n",
      " ['P', 'Z', 'B', 'V', 'Q'],\n",
      " ['G', 'I', 'V', 'Y', 'N'],\n",
      " ['E', 'R', 'B', 'Y', 'I'],\n",
      " ['Q', 'U', 'R', 'Q', 'C'],\n",
      " ['S', 'W', 'M', 'T', 'R'],\n",
      " ['E', 'S', 'W', 'R', 'I'],\n",
      " ['B', 'B', 'N', 'K', 'U'],\n",
      " ['D', 'Y', 'U', 'B', 'Q'],\n",
      " ['X', 'Z', 'X', 'G', 'A'],\n",
      " ['G', 'Y', 'S', 'Q', 'Z']]\n"
     ]
    }
   ],
   "source": [
    "populacao = cria_populacao(TAMANHO_POPULACAO, TAMANHO_PALINDROMO, CARACTERES_POSSIVEIS)\n",
    "pprint(populacao)"
   ]
  },
  {
   "cell_type": "markdown",
   "metadata": {},
   "source": [
    "Definimos quais são as nossas vogais, dado que é necessária a presença de ao menos uma delas na palavra para se tornar um palíndromo válido:"
   ]
  },
  {
   "cell_type": "code",
   "execution_count": 4,
   "metadata": {},
   "outputs": [],
   "source": [
    "LISTA_VOGAIS = ['A', 'E', 'I', 'O', 'U']"
   ]
  },
  {
   "cell_type": "markdown",
   "metadata": {},
   "source": [
    "Realizamos aqui a utilização do nosso algoritmo genético para analisar os palíndromos realizando os passos de seleção, cruzamento, mutação e escolha do melhor indivíduo geral.\n",
    "\n",
    "Nesse passo, algumas alterações precisaram ser feitas, dado que utilizamos um \"sistema de pontos\" para cada candidato que pontuava a presença de vogais na palavra (característica necessária para se tornar um palíndromo válido nesse problema) e a relação entre letras iguais válida no palíndromo (primeira e última letra, segunda e penúltima, e assim por diante)."
   ]
  },
  {
   "cell_type": "code",
   "execution_count": 5,
   "metadata": {},
   "outputs": [
    {
     "name": "stdout",
     "output_type": "stream",
     "text": [
      "1º palíndromo encontrado: DCUCD\n",
      "2º palíndromo encontrado: EOQOE\n",
      "3º palíndromo encontrado: ODWDO\n",
      "4º palíndromo encontrado: TOZOT\n",
      "5º palíndromo encontrado: CLULC\n",
      "6º palíndromo encontrado: IAUAI\n",
      "7º palíndromo encontrado: DUOUD\n",
      "8º palíndromo encontrado: LYUYL\n",
      "9º palíndromo encontrado: CCOCC\n",
      "10º palíndromo encontrado: OYOYO\n"
     ]
    }
   ],
   "source": [
    "lista_palindromos = []\n",
    "n_palindromo = 1\n",
    "\n",
    "for i in range (10):\n",
    "\n",
    "    tamanho_lista = len(lista_palindromos)\n",
    "    tamanho_lista_nova = tamanho_lista\n",
    "\n",
    "    while tamanho_lista_nova == tamanho_lista:\n",
    "        # Seleção\n",
    "        fitness = funcao_objetivo(populacao, LISTA_VOGAIS)        \n",
    "        selecionados = funcao_selecao(populacao, fitness, TAMANHO_TORNEIO)\n",
    "        \n",
    "        # Cruzamento\n",
    "        proxima_geracao = []\n",
    "        for pai, mae in zip(selecionados[::2], selecionados[1::2]):\n",
    "            individuo1, individuo2 = funcao_cruzamento(pai, mae, CHANCE_DE_CRUZAMENTO)\n",
    "            proxima_geracao.append(individuo1)\n",
    "            proxima_geracao.append(individuo2)\n",
    "        \n",
    "        # Mutação\n",
    "        funcao_mutacao(proxima_geracao, CHANCE_DE_MUTACAO)\n",
    "        \n",
    "        # Encerramento\n",
    "        populacao = proxima_geracao\n",
    "        \n",
    "        fitness = funcao_objetivo(populacao, LISTA_VOGAIS)\n",
    "        for f in fitness:\n",
    "            if f == 3:\n",
    "                indice = fitness.index(f)\n",
    "                candidato = populacao[indice]\n",
    "                if candidato not in lista_palindromos:\n",
    "                    lista_palindromos.append(candidato)\n",
    "                    print(f\"{n_palindromo}º palíndromo encontrado:\", \"\".join(candidato))\n",
    "                    n_palindromo += 1   \n",
    "\n",
    "        maior_fitness_observado = max(fitness)\n",
    "        tamanho_lista_nova = len(lista_palindromos)"
   ]
  },
  {
   "cell_type": "markdown",
   "metadata": {},
   "source": [
    "Após conseguirmos obter nossos palíndromos, os armazenamos em uma lista de listas que mostra de forma clara a relação entre letras iguais principalmente pelos seus índices:"
   ]
  },
  {
   "cell_type": "code",
   "execution_count": 6,
   "metadata": {},
   "outputs": [
    {
     "data": {
      "text/plain": [
       "[['D', 'C', 'U', 'C', 'D'],\n",
       " ['E', 'O', 'Q', 'O', 'E'],\n",
       " ['O', 'D', 'W', 'D', 'O'],\n",
       " ['T', 'O', 'Z', 'O', 'T'],\n",
       " ['C', 'L', 'U', 'L', 'C'],\n",
       " ['I', 'A', 'U', 'A', 'I'],\n",
       " ['D', 'U', 'O', 'U', 'D'],\n",
       " ['L', 'Y', 'U', 'Y', 'L'],\n",
       " ['C', 'C', 'O', 'C', 'C'],\n",
       " ['O', 'Y', 'O', 'Y', 'O']]"
      ]
     },
     "execution_count": 6,
     "metadata": {},
     "output_type": "execute_result"
    }
   ],
   "source": [
    "lista_palindromos"
   ]
  },
  {
   "cell_type": "code",
   "execution_count": 7,
   "metadata": {},
   "outputs": [
    {
     "name": "stdout",
     "output_type": "stream",
     "text": [
      "True\n"
     ]
    }
   ],
   "source": [
    "primeira_letra = lista_palindromos[0][0] #primeira letra do primeiro palíndromo encontrado\n",
    "ultima_letra = lista_palindromos[0][-1] #última letra do primeiro palíndromo encontrado\n",
    "\n",
    "print(primeira_letra==ultima_letra) "
   ]
  },
  {
   "cell_type": "markdown",
   "metadata": {},
   "source": [
    "---"
   ]
  },
  {
   "cell_type": "markdown",
   "metadata": {},
   "source": [
    "## **CONCLUSÃO**"
   ]
  },
  {
   "cell_type": "markdown",
   "metadata": {},
   "source": [
    "Com isso, foi possível adaptar e implementar um algoritmo genético efetivo para obtenção de palíndromos, seguindo todos os requisitos expostos no problema."
   ]
  },
  {
   "cell_type": "markdown",
   "metadata": {},
   "source": [
    "---"
   ]
  },
  {
   "cell_type": "markdown",
   "metadata": {},
   "source": [
    "## **REFERÊNCIAS**\n",
    "\n",
    "**[1]** CASSAR, Daniel. Redes Neurais e Algoritmos Genéticos. 2025. Material de Aula."
   ]
  }
 ],
 "metadata": {
  "kernelspec": {
   "display_name": "Python 3",
   "language": "python",
   "name": "python3"
  },
  "language_info": {
   "codemirror_mode": {
    "name": "ipython",
    "version": 3
   },
   "file_extension": ".py",
   "mimetype": "text/x-python",
   "name": "python",
   "nbconvert_exporter": "python",
   "pygments_lexer": "ipython3",
   "version": "3.11.6"
  },
  "org": null
 },
 "nbformat": 4,
 "nbformat_minor": 4
}
